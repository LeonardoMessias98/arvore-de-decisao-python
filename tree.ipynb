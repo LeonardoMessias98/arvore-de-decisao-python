{
 "cells": [
  {
   "cell_type": "markdown",
   "metadata": {},
   "source": [
    "# Decision Tree"
   ]
  },
  {
   "cell_type": "markdown",
   "metadata": {},
   "source": [
    "### Importação de Bibliotecas"
   ]
  },
  {
   "cell_type": "code",
   "execution_count": 3,
   "metadata": {},
   "outputs": [],
   "source": [
    "import pandas as pd\n",
    "from sklearn.tree import DecisionTreeClassifier\n",
    "from sklearn import tree\n",
    "from matplotlib import pyplot as plt\n",
    "from sklearn import metrics\n",
    "%matplotlib inline"
   ]
  },
  {
   "cell_type": "markdown",
   "metadata": {},
   "source": [
    "### Leitura de Arquivo CSV - atenção ao separador \";\""
   ]
  },
  {
   "cell_type": "code",
   "execution_count": 4,
   "metadata": {},
   "outputs": [],
   "source": [
    "df = pd.read_csv(\"./emprestimo.csv\",sep=\";\") "
   ]
  },
  {
   "cell_type": "markdown",
   "metadata": {},
   "source": [
    "### Transformação dos dados categóricos para numéricos (features), com exceção à classe (target)"
   ]
  },
  {
   "cell_type": "code",
   "execution_count": 5,
   "metadata": {},
   "outputs": [
    {
     "name": "stdout",
     "output_type": "stream",
     "text": [
      "   montante  idade  salario  tem_conta  empresta\n",
      "0         1      2        0          1         0\n",
      "1         1      2        0          0         0\n",
      "2         0      2        0          1         1\n",
      "3         2      1        0          1         1\n",
      "4         2      0        1          1         1\n"
     ]
    }
   ],
   "source": [
    "translate = {\n",
    "    'montante': { 'Alto': 2, 'Medio': 1, 'Baixo': 0 },\n",
    "    'idade': { 'Senior': 2, 'Media': 1, 'Jovem': 0 },\n",
    "    'salario': { 'Alto': 1, 'Baixo': 0 },\n",
    "    'tem_conta': { 'Sim': 1, 'Nao': 0 },\n",
    "    'empresta': { 'Sim': 1, 'Nao': 0 }\n",
    "}\n",
    "\n",
    "for col in df:\n",
    "    df[col] = df[col].apply(lambda k: translate[col][k])\n",
    "print(df.head()) # mostra informações básicas do dataset como quais colunas (e seus tipos) e uso de memória"
   ]
  },
  {
   "cell_type": "markdown",
   "metadata": {},
   "source": [
    "Criando variaveis e resultados\n"
   ]
  },
  {
   "cell_type": "code",
   "execution_count": 6,
   "metadata": {},
   "outputs": [
    {
     "name": "stdout",
     "output_type": "stream",
     "text": [
      "0    0\n",
      "1    0\n",
      "2    1\n",
      "3    1\n",
      "4    1\n",
      "Name: empresta, dtype: int64\n"
     ]
    }
   ],
   "source": [
    "x = df[['montante', 'idade', 'salario', 'tem_conta']]\n",
    "y = df['empresta']\n",
    "print(y.head())\n"
   ]
  },
  {
   "cell_type": "markdown",
   "metadata": {},
   "source": [
    "### Treinamento do Modelo"
   ]
  },
  {
   "cell_type": "code",
   "execution_count": 7,
   "metadata": {},
   "outputs": [
    {
     "name": "stdout",
     "output_type": "stream",
     "text": [
      "    montante  idade  salario  tem_conta\n",
      "7          1      1        0          1\n",
      "13         2      1        0          0\n",
      "8          1      0        1          1\n",
      "12         0      2        1          1\n",
      "5          2      0        1          0\n",
      "7     0\n",
      "13    0\n",
      "8     1\n",
      "12    1\n",
      "5     0\n",
      "Name: empresta, dtype: int64\n",
      "    montante  idade  salario  tem_conta\n",
      "10         1      1        1          0\n",
      "4          2      0        1          1\n",
      "2          0      2        0          1\n",
      "0          1      2        0          1\n",
      "10    1\n",
      "4     1\n",
      "2     1\n",
      "0     0\n",
      "Name: empresta, dtype: int64\n"
     ]
    }
   ],
   "source": [
    "from sklearn.model_selection import train_test_split\n",
    "train_x, test_x, train_y, test_y = train_test_split(x, y, test_size=0.25, random_state=75, stratify=y) # 33% para Testes\n",
    "print(train_x.head())\n",
    "print(train_y.head())\n",
    "print(test_x.head())\n",
    "print(test_y.head())"
   ]
  },
  {
   "cell_type": "code",
   "execution_count": 8,
   "metadata": {},
   "outputs": [],
   "source": [
    "from dataclasses import dataclass\n",
    "@dataclass(frozen=True)\n",
    "class ModelResult:\n",
    "    n: int\n",
    "    clf: DecisionTreeClassifier\n",
    "    acc: float"
   ]
  },
  {
   "cell_type": "code",
   "execution_count": 9,
   "metadata": {},
   "outputs": [
    {
     "name": "stdout",
     "output_type": "stream",
     "text": [
      "(1, 0.5) (2, 0.5) (3, 0.75)\n"
     ]
    }
   ],
   "source": [
    "def tree_model(max_depth: int):\n",
    "    clf = DecisionTreeClassifier(max_depth=max_depth, criterion='entropy', random_state=42) \n",
    "    \n",
    "    clf.fit(train_x, train_y)\n",
    "\n",
    "    pred_y = clf.predict(test_x)\n",
    "    acc = metrics.accuracy_score(test_y, pred_y)\n",
    "    return ModelResult(acc=acc, clf=clf, n=max_depth)\n",
    "\n",
    "results = {n: tree_model(n) for n in range(1,4)}\n",
    "print(*[(n, r.acc) for n, r in results.items()])"
   ]
  },
  {
   "cell_type": "markdown",
   "metadata": {},
   "source": [
    "### Apresentação dos Resultados"
   ]
  },
  {
   "cell_type": "code",
   "execution_count": 10,
   "metadata": {},
   "outputs": [
    {
     "name": "stdout",
     "output_type": "stream",
     "text": [
      "Index(['montante', 'idade', 'salario', 'tem_conta'], dtype='object') ['1' '0']\n"
     ]
    },
    {
     "data": {
      "text/plain": [
       "[Text(0.4, 0.8333333333333334, 'montante <= 0.5\\nentropy = 0.971\\nsamples = 10\\nvalue = [4, 6]\\nclass = 0'),\n",
       " Text(0.2, 0.5, 'entropy = 0.0\\nsamples = 3\\nvalue = [0, 3]\\nclass = 0'),\n",
       " Text(0.6, 0.5, 'tem_conta <= 0.5\\nentropy = 0.985\\nsamples = 7\\nvalue = [4, 3]\\nclass = 1'),\n",
       " Text(0.4, 0.16666666666666666, 'entropy = 0.0\\nsamples = 3\\nvalue = [3, 0]\\nclass = 1'),\n",
       " Text(0.8, 0.16666666666666666, 'entropy = 0.811\\nsamples = 4\\nvalue = [1, 3]\\nclass = 0')]"
      ]
     },
     "execution_count": 10,
     "metadata": {},
     "output_type": "execute_result"
    },
    {
     "data": {
      "image/png": "[encoded data removed]",
      "text/plain": [
       "<Figure size 432x288 with 1 Axes>"
      ]
     },
     "metadata": {
      "needs_background": "light"
     },
     "output_type": "display_data"
    }
   ],
   "source": [
    "# Plotagem da árvore\n",
    "clf = results[2].clf\n",
    "f_names = test_x.columns\n",
    "c_names = test_y.unique().astype(str)\n",
    "print(f_names, c_names)\n",
    "tree.plot_tree(clf, feature_names=f_names,class_names=c_names, filled=True)"
   ]
  },
  {
   "cell_type": "code",
   "execution_count": 11,
   "metadata": {},
   "outputs": [
    {
     "data": {
      "image/png": "[encoded data removed]",
      "text/plain": [
       "<Figure size 432x288 with 2 Axes>"
      ]
     },
     "metadata": {
      "needs_background": "light"
     },
     "output_type": "display_data"
    }
   ],
   "source": [
    "# Matriz de confusão\n",
    "from sklearn.metrics import confusion_matrix, ConfusionMatrixDisplay\n",
    "predictions = clf.predict(test_x);\n",
    "cm = confusion_matrix(test_y, predictions, labels=clf.classes_)\n",
    "disp = ConfusionMatrixDisplay(confusion_matrix=cm,display_labels=clf.classes_)\n",
    "disp.plot()\n",
    "plt.show()"
   ]
  },
  {
   "cell_type": "code",
   "execution_count": 12,
   "metadata": {},
   "outputs": [
    {
     "data": {
      "text/plain": [
       "array([1])"
      ]
     },
     "execution_count": 12,
     "metadata": {},
     "output_type": "execute_result"
    }
   ],
   "source": [
    "# Testando para uma entrada específica:\n",
    "W_test = pd.DataFrame({'montante': [0], 'idade': [2], 'salario': [0], 'tem_conta': [1]})\n",
    "y_pred = clf.predict(W_test)\n",
    "y_pred"
   ]
  }
 ],
 "metadata": {
  "interpreter": {
   "hash": "94ac249baff044f4f7fed3bbfaad013cbcd7563c958e71c1a4ebf99f20509e28"
  },
  "kernelspec": {
   "display_name": "Python 3.7.7 32-bit",
   "language": "python",
   "name": "python3"
  },
  "language_info": {
   "codemirror_mode": {
    "name": "ipython",
    "version": 3
   },
   "file_extension": ".py",
   "mimetype": "text/x-python",
   "name": "python",
   "nbconvert_exporter": "python",
   "pygments_lexer": "ipython3",
   "version": "3.8.10"
  },
  "orig_nbformat": 4
 },
 "nbformat": 4,
 "nbformat_minor": 2
}
